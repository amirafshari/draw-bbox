{
 "cells": [
  {
   "cell_type": "code",
   "execution_count": 10,
   "id": "6877925c-be7f-4fa0-b12f-ce13dfe65d53",
   "metadata": {},
   "outputs": [],
   "source": [
    "import cv2 as cv\n",
    "import numpy as np\n",
    "import os"
   ]
  },
  {
   "cell_type": "code",
   "execution_count": 11,
   "id": "08245eac-1623-44b9-a147-8cf7f9806113",
   "metadata": {},
   "outputs": [],
   "source": [
    "IMAGES = 'images'\n",
    "LABELS = 'labels'\n",
    "OUTPUTS = 'outputs'\n",
    "CLASSES = 'classes.txt'"
   ]
  },
  {
   "cell_type": "code",
   "execution_count": 13,
   "id": "f2475999-e573-4529-aaad-c4aff9348ced",
   "metadata": {},
   "outputs": [
    {
     "name": "stdout",
     "output_type": "stream",
     "text": [
      "Done\n"
     ]
    }
   ],
   "source": [
    "classes = open(CLASSES).read().strip().split()\n",
    "class_dic = dict()\n",
    "for i, label in enumerate(classes):\n",
    "    class_dic[i] = label\n",
    "    \n",
    "    \n",
    "    \n",
    "    \n",
    "for im in os.listdir(IMAGES):\n",
    "    txt = im.replace(im[-4:], '.txt')\n",
    "\n",
    "    img = cv.imread(os.path.join(IMAGES, im))\n",
    "    label = np.loadtxt(os.path.join(LABELS, txt)).tolist()\n",
    "    height, width = img.shape[:2]\n",
    "\n",
    "\n",
    "    if type(label[0]) == list:\n",
    "        for obj in label:\n",
    "            l = int(obj[0])\n",
    "            w = round(obj[3]*width)\n",
    "            h = round(obj[4]*height)\n",
    "            x = round(obj[1]*width - w/2) # xmin\n",
    "            y = round(obj[2]*height - h/2) # ymax\n",
    "            cv.rectangle(img, (x, y), (x+w, y+h), (255,228,0), 1, cv.LINE_AA)\n",
    "            cv.putText(img=img, text=class_dic[l], org=(x-2, y - 2), fontFace=1, fontScale=1, color=[255,255,255], lineType=cv.LINE_AA)\n",
    "\n",
    "    else:\n",
    "        obj = label\n",
    "        l = int(obj[0])\n",
    "        w = round(obj[3]*width)\n",
    "        h = round(obj[4]*height)\n",
    "        x = round(obj[1]*width - w/2)\n",
    "        y = round(obj[2]*height - h/2)\n",
    "\n",
    "        cv.rectangle(img, (x, y), (x+w, y+h), (255,228,0), 1, cv.LINE_AA)\n",
    "        cv.putText(img=img, text=class_dic[l], org=(x-2, y - 2), fontFace=1, fontScale=1, color=[255,255,255], lineType=cv.LINE_AA)\n",
    "\n",
    "    cv.imwrite(os.path.join(OUTPUTS,im), img)\n",
    "    \n",
    "print('Done')"
   ]
  },
  {
   "cell_type": "code",
   "execution_count": null,
   "id": "2d5c0260-4cb1-412d-b7dd-824ea978bced",
   "metadata": {},
   "outputs": [],
   "source": [
    "https://stackoverflow.com/questions/60674501/how-to-make-black-background-in-cv2-puttext-with-python-opencv"
   ]
  }
 ],
 "metadata": {
  "kernelspec": {
   "display_name": "Python 3 (ipykernel)",
   "language": "python",
   "name": "python3"
  },
  "language_info": {
   "codemirror_mode": {
    "name": "ipython",
    "version": 3
   },
   "file_extension": ".py",
   "mimetype": "text/x-python",
   "name": "python",
   "nbconvert_exporter": "python",
   "pygments_lexer": "ipython3",
   "version": "3.8.10"
  }
 },
 "nbformat": 4,
 "nbformat_minor": 5
}
